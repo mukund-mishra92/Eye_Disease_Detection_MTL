{
 "cells": [
  {
   "cell_type": "code",
   "execution_count": 31,
   "metadata": {},
   "outputs": [
    {
     "data": {
      "text/html": [
       "<div>\n",
       "<style scoped>\n",
       "    .dataframe tbody tr th:only-of-type {\n",
       "        vertical-align: middle;\n",
       "    }\n",
       "\n",
       "    .dataframe tbody tr th {\n",
       "        vertical-align: top;\n",
       "    }\n",
       "\n",
       "    .dataframe thead th {\n",
       "        text-align: right;\n",
       "    }\n",
       "</style>\n",
       "<table border=\"1\" class=\"dataframe\">\n",
       "  <thead>\n",
       "    <tr style=\"text-align: right;\">\n",
       "      <th></th>\n",
       "      <th>Image name</th>\n",
       "      <th>Retinopathy grade</th>\n",
       "      <th>Risk of macular edema</th>\n",
       "      <th>Unnamed: 3</th>\n",
       "      <th>Unnamed: 4</th>\n",
       "      <th>Unnamed: 5</th>\n",
       "      <th>Unnamed: 6</th>\n",
       "      <th>Unnamed: 7</th>\n",
       "      <th>Unnamed: 8</th>\n",
       "      <th>Unnamed: 9</th>\n",
       "      <th>Unnamed: 10</th>\n",
       "      <th>Unnamed: 11</th>\n",
       "    </tr>\n",
       "  </thead>\n",
       "  <tbody>\n",
       "    <tr>\n",
       "      <th>0</th>\n",
       "      <td>IDRiD_001</td>\n",
       "      <td>3</td>\n",
       "      <td>2</td>\n",
       "      <td>NaN</td>\n",
       "      <td>NaN</td>\n",
       "      <td>NaN</td>\n",
       "      <td>NaN</td>\n",
       "      <td>NaN</td>\n",
       "      <td>NaN</td>\n",
       "      <td>NaN</td>\n",
       "      <td>NaN</td>\n",
       "      <td>NaN</td>\n",
       "    </tr>\n",
       "    <tr>\n",
       "      <th>1</th>\n",
       "      <td>IDRiD_002</td>\n",
       "      <td>3</td>\n",
       "      <td>2</td>\n",
       "      <td>NaN</td>\n",
       "      <td>NaN</td>\n",
       "      <td>NaN</td>\n",
       "      <td>NaN</td>\n",
       "      <td>NaN</td>\n",
       "      <td>NaN</td>\n",
       "      <td>NaN</td>\n",
       "      <td>NaN</td>\n",
       "      <td>NaN</td>\n",
       "    </tr>\n",
       "    <tr>\n",
       "      <th>2</th>\n",
       "      <td>IDRiD_003</td>\n",
       "      <td>2</td>\n",
       "      <td>2</td>\n",
       "      <td>NaN</td>\n",
       "      <td>NaN</td>\n",
       "      <td>NaN</td>\n",
       "      <td>NaN</td>\n",
       "      <td>NaN</td>\n",
       "      <td>NaN</td>\n",
       "      <td>NaN</td>\n",
       "      <td>NaN</td>\n",
       "      <td>NaN</td>\n",
       "    </tr>\n",
       "    <tr>\n",
       "      <th>3</th>\n",
       "      <td>IDRiD_004</td>\n",
       "      <td>3</td>\n",
       "      <td>2</td>\n",
       "      <td>NaN</td>\n",
       "      <td>NaN</td>\n",
       "      <td>NaN</td>\n",
       "      <td>NaN</td>\n",
       "      <td>NaN</td>\n",
       "      <td>NaN</td>\n",
       "      <td>NaN</td>\n",
       "      <td>NaN</td>\n",
       "      <td>NaN</td>\n",
       "    </tr>\n",
       "    <tr>\n",
       "      <th>4</th>\n",
       "      <td>IDRiD_005</td>\n",
       "      <td>4</td>\n",
       "      <td>0</td>\n",
       "      <td>NaN</td>\n",
       "      <td>NaN</td>\n",
       "      <td>NaN</td>\n",
       "      <td>NaN</td>\n",
       "      <td>NaN</td>\n",
       "      <td>NaN</td>\n",
       "      <td>NaN</td>\n",
       "      <td>NaN</td>\n",
       "      <td>NaN</td>\n",
       "    </tr>\n",
       "  </tbody>\n",
       "</table>\n",
       "</div>"
      ],
      "text/plain": [
       "  Image name  Retinopathy grade  Risk of macular edema   Unnamed: 3  \\\n",
       "0  IDRiD_001                  3                       2         NaN   \n",
       "1  IDRiD_002                  3                       2         NaN   \n",
       "2  IDRiD_003                  2                       2         NaN   \n",
       "3  IDRiD_004                  3                       2         NaN   \n",
       "4  IDRiD_005                  4                       0         NaN   \n",
       "\n",
       "   Unnamed: 4  Unnamed: 5  Unnamed: 6  Unnamed: 7  Unnamed: 8  Unnamed: 9  \\\n",
       "0         NaN         NaN         NaN         NaN         NaN         NaN   \n",
       "1         NaN         NaN         NaN         NaN         NaN         NaN   \n",
       "2         NaN         NaN         NaN         NaN         NaN         NaN   \n",
       "3         NaN         NaN         NaN         NaN         NaN         NaN   \n",
       "4         NaN         NaN         NaN         NaN         NaN         NaN   \n",
       "\n",
       "   Unnamed: 10 Unnamed: 11  \n",
       "0          NaN         NaN  \n",
       "1          NaN         NaN  \n",
       "2          NaN         NaN  \n",
       "3          NaN         NaN  \n",
       "4          NaN         NaN  "
      ]
     },
     "execution_count": 31,
     "metadata": {},
     "output_type": "execute_result"
    }
   ],
   "source": [
    "import pandas as pd\n",
    "import numpy as np\n",
    "\n",
    "df = pd.read_csv(\"/Users/balmukundmishra/Desktop/2025-Learning/Eye_Disease_Detection_MTL/Preprocessed_Data/Diesease_grading/Groundtruths/train_grading.csv\")\n",
    "df.head()"
   ]
  },
  {
   "cell_type": "code",
   "execution_count": 32,
   "metadata": {},
   "outputs": [
    {
     "data": {
      "text/plain": [
       "Index(['Image name', 'Retinopathy grade', 'Risk of macular edema ',\n",
       "       'Unnamed: 3', 'Unnamed: 4', 'Unnamed: 5', 'Unnamed: 6', 'Unnamed: 7',\n",
       "       'Unnamed: 8', 'Unnamed: 9', 'Unnamed: 10', 'Unnamed: 11'],\n",
       "      dtype='object')"
      ]
     },
     "execution_count": 32,
     "metadata": {},
     "output_type": "execute_result"
    }
   ],
   "source": [
    "df.columns"
   ]
  },
  {
   "cell_type": "code",
   "execution_count": 33,
   "metadata": {},
   "outputs": [],
   "source": [
    "df = df[['Image name', 'Retinopathy grade', 'Risk of macular edema ']]"
   ]
  },
  {
   "cell_type": "code",
   "execution_count": 57,
   "metadata": {},
   "outputs": [],
   "source": [
    "## lets group the collum 'Retinopathy grade' as range 0-2, 2 , 3-4\n",
    "def group_retinopathy_grade(grade):\n",
    "    if grade in [0, 1]:\n",
    "        return 'low'\n",
    "    elif grade == 2:\n",
    "        return 'midium'\n",
    "    elif grade in [3, 4]:\n",
    "        return 'high'\n",
    "    else:\n",
    "        return 'Unknown'\n",
    "df['Retinopathy_grade_group'] = df['Retinopathy grade'].apply(group_retinopathy_grade)"
   ]
  },
  {
   "cell_type": "code",
   "execution_count": 58,
   "metadata": {},
   "outputs": [
    {
     "data": {
      "text/plain": [
       "array([3, 2, 4, 1, 0])"
      ]
     },
     "execution_count": 58,
     "metadata": {},
     "output_type": "execute_result"
    }
   ],
   "source": [
    "df['Retinopathy grade'].unique()"
   ]
  },
  {
   "cell_type": "code",
   "execution_count": 59,
   "metadata": {},
   "outputs": [
    {
     "data": {
      "text/plain": [
       "array([2, 0, 1])"
      ]
     },
     "execution_count": 59,
     "metadata": {},
     "output_type": "execute_result"
    }
   ],
   "source": [
    "df['Risk of macular edema '].unique()"
   ]
  },
  {
   "cell_type": "code",
   "execution_count": 60,
   "metadata": {},
   "outputs": [],
   "source": [
    "df['is_edema'] = df['Risk of macular edema '].apply(lambda x: 0 if x == 0 else 1)\n"
   ]
  },
  {
   "cell_type": "code",
   "execution_count": 61,
   "metadata": {},
   "outputs": [
    {
     "data": {
      "text/html": [
       "<div>\n",
       "<style scoped>\n",
       "    .dataframe tbody tr th:only-of-type {\n",
       "        vertical-align: middle;\n",
       "    }\n",
       "\n",
       "    .dataframe tbody tr th {\n",
       "        vertical-align: top;\n",
       "    }\n",
       "\n",
       "    .dataframe thead th {\n",
       "        text-align: right;\n",
       "    }\n",
       "</style>\n",
       "<table border=\"1\" class=\"dataframe\">\n",
       "  <thead>\n",
       "    <tr style=\"text-align: right;\">\n",
       "      <th></th>\n",
       "      <th>Image name</th>\n",
       "      <th>Retinopathy grade</th>\n",
       "      <th>Risk of macular edema</th>\n",
       "      <th>is_edema</th>\n",
       "      <th>Retinopathy_grade_group</th>\n",
       "    </tr>\n",
       "  </thead>\n",
       "  <tbody>\n",
       "    <tr>\n",
       "      <th>0</th>\n",
       "      <td>IDRiD_001</td>\n",
       "      <td>3</td>\n",
       "      <td>2</td>\n",
       "      <td>1</td>\n",
       "      <td>high</td>\n",
       "    </tr>\n",
       "    <tr>\n",
       "      <th>1</th>\n",
       "      <td>IDRiD_002</td>\n",
       "      <td>3</td>\n",
       "      <td>2</td>\n",
       "      <td>1</td>\n",
       "      <td>high</td>\n",
       "    </tr>\n",
       "    <tr>\n",
       "      <th>2</th>\n",
       "      <td>IDRiD_003</td>\n",
       "      <td>2</td>\n",
       "      <td>2</td>\n",
       "      <td>1</td>\n",
       "      <td>midium</td>\n",
       "    </tr>\n",
       "    <tr>\n",
       "      <th>3</th>\n",
       "      <td>IDRiD_004</td>\n",
       "      <td>3</td>\n",
       "      <td>2</td>\n",
       "      <td>1</td>\n",
       "      <td>high</td>\n",
       "    </tr>\n",
       "    <tr>\n",
       "      <th>4</th>\n",
       "      <td>IDRiD_005</td>\n",
       "      <td>4</td>\n",
       "      <td>0</td>\n",
       "      <td>0</td>\n",
       "      <td>high</td>\n",
       "    </tr>\n",
       "    <tr>\n",
       "      <th>...</th>\n",
       "      <td>...</td>\n",
       "      <td>...</td>\n",
       "      <td>...</td>\n",
       "      <td>...</td>\n",
       "      <td>...</td>\n",
       "    </tr>\n",
       "    <tr>\n",
       "      <th>408</th>\n",
       "      <td>IDRiD_409</td>\n",
       "      <td>2</td>\n",
       "      <td>1</td>\n",
       "      <td>1</td>\n",
       "      <td>midium</td>\n",
       "    </tr>\n",
       "    <tr>\n",
       "      <th>409</th>\n",
       "      <td>IDRiD_410</td>\n",
       "      <td>2</td>\n",
       "      <td>0</td>\n",
       "      <td>0</td>\n",
       "      <td>midium</td>\n",
       "    </tr>\n",
       "    <tr>\n",
       "      <th>410</th>\n",
       "      <td>IDRiD_411</td>\n",
       "      <td>2</td>\n",
       "      <td>0</td>\n",
       "      <td>0</td>\n",
       "      <td>midium</td>\n",
       "    </tr>\n",
       "    <tr>\n",
       "      <th>411</th>\n",
       "      <td>IDRiD_412</td>\n",
       "      <td>2</td>\n",
       "      <td>0</td>\n",
       "      <td>0</td>\n",
       "      <td>midium</td>\n",
       "    </tr>\n",
       "    <tr>\n",
       "      <th>412</th>\n",
       "      <td>IDRiD_413</td>\n",
       "      <td>2</td>\n",
       "      <td>0</td>\n",
       "      <td>0</td>\n",
       "      <td>midium</td>\n",
       "    </tr>\n",
       "  </tbody>\n",
       "</table>\n",
       "<p>413 rows × 5 columns</p>\n",
       "</div>"
      ],
      "text/plain": [
       "    Image name  Retinopathy grade  Risk of macular edema   is_edema  \\\n",
       "0    IDRiD_001                  3                       2         1   \n",
       "1    IDRiD_002                  3                       2         1   \n",
       "2    IDRiD_003                  2                       2         1   \n",
       "3    IDRiD_004                  3                       2         1   \n",
       "4    IDRiD_005                  4                       0         0   \n",
       "..         ...                ...                     ...       ...   \n",
       "408  IDRiD_409                  2                       1         1   \n",
       "409  IDRiD_410                  2                       0         0   \n",
       "410  IDRiD_411                  2                       0         0   \n",
       "411  IDRiD_412                  2                       0         0   \n",
       "412  IDRiD_413                  2                       0         0   \n",
       "\n",
       "    Retinopathy_grade_group  \n",
       "0                      high  \n",
       "1                      high  \n",
       "2                    midium  \n",
       "3                      high  \n",
       "4                      high  \n",
       "..                      ...  \n",
       "408                  midium  \n",
       "409                  midium  \n",
       "410                  midium  \n",
       "411                  midium  \n",
       "412                  midium  \n",
       "\n",
       "[413 rows x 5 columns]"
      ]
     },
     "execution_count": 61,
     "metadata": {},
     "output_type": "execute_result"
    }
   ],
   "source": [
    "df"
   ]
  },
  {
   "cell_type": "code",
   "execution_count": 62,
   "metadata": {},
   "outputs": [
    {
     "name": "stdout",
     "output_type": "stream",
     "text": [
      "                         No Edema  Edema\n",
      "Retinopathy_grade_group                 \n",
      "high                          7.0  116.0\n",
      "low                         154.0    0.0\n",
      "midium                       16.0  120.0\n"
     ]
    }
   ],
   "source": [
    "summary = df.groupby('Retinopathy_grade_group')['is_edema'].value_counts().unstack().fillna(0)\n",
    "summary.columns = ['No Edema','Edema']  # if values are 0 and 1\n",
    "print(summary)\n"
   ]
  },
  {
   "cell_type": "code",
   "execution_count": 63,
   "metadata": {},
   "outputs": [
    {
     "data": {
      "image/png": "[encoded data removed]",
      "text/plain": [
       "<Figure size 640x480 with 1 Axes>"
      ]
     },
     "metadata": {},
     "output_type": "display_data"
    }
   ],
   "source": [
    "import seaborn as sns\n",
    "import matplotlib.pyplot as plt\n",
    "\n",
    "sns.countplot(data=df, x='Retinopathy grade', palette='flare')\n",
    "plt.title(\"Retinopathy Grade Distribution (in Edema Patients)\")\n",
    "plt.xlabel(\"Retinopathy Grade\")\n",
    "plt.ylabel(\"Number of Cases\")\n",
    "plt.show()"
   ]
  },
  {
   "cell_type": "code",
   "execution_count": 65,
   "metadata": {},
   "outputs": [],
   "source": [
    "# lets write this data into csv\n",
    "df.to_csv(\"/Users/balmukundmishra/Desktop/2025-Learning/Eye_Disease_Detection_MTL/Preprocessed_Data/classification/train/processed_csv_train.csv\", index=False)"
   ]
  },
  {
   "cell_type": "code",
   "execution_count": 10,
   "metadata": {},
   "outputs": [
    {
     "name": "stdout",
     "output_type": "stream",
     "text": [
      "✅ Renamed: IDRiD_52_OD.tif → IDRiD_052_OD.tif\n",
      "✅ Renamed: IDRiD_31_OD.tif → IDRiD_031_OD.tif\n",
      "✅ Renamed: IDRiD_40_OD.tif → IDRiD_040_OD.tif\n",
      "✅ Renamed: IDRiD_23_OD.tif → IDRiD_023_OD.tif\n",
      "✅ Renamed: IDRiD_15_OD.tif → IDRiD_015_OD.tif\n",
      "✅ Renamed: IDRiD_19_OD.tif → IDRiD_019_OD.tif\n",
      "✅ Renamed: IDRiD_07_OD.tif → IDRiD_007_OD.tif\n",
      "✅ Renamed: IDRiD_21_OD.tif → IDRiD_021_OD.tif\n",
      "✅ Renamed: IDRiD_42_OD.tif → IDRiD_042_OD.tif\n",
      "✅ Renamed: IDRiD_33_OD.tif → IDRiD_033_OD.tif\n",
      "✅ Renamed: IDRiD_50_OD.tif → IDRiD_050_OD.tif\n",
      "✅ Renamed: IDRiD_05_OD.tif → IDRiD_005_OD.tif\n",
      "✅ Renamed: IDRiD_17_OD.tif → IDRiD_017_OD.tif\n",
      "✅ Renamed: IDRiD_09_OD.tif → IDRiD_009_OD.tif\n",
      "✅ Renamed: IDRiD_13_OD.tif → IDRiD_013_OD.tif\n",
      "✅ Renamed: IDRiD_01_OD.tif → IDRiD_001_OD.tif\n",
      "✅ Renamed: IDRiD_37_OD.tif → IDRiD_037_OD.tif\n",
      "✅ Renamed: IDRiD_54_OD.tif → IDRiD_054_OD.tif\n",
      "✅ Renamed: IDRiD_29_OD.tif → IDRiD_029_OD.tif\n",
      "✅ Renamed: IDRiD_25_OD.tif → IDRiD_025_OD.tif\n",
      "✅ Renamed: IDRiD_46_OD.tif → IDRiD_046_OD.tif\n",
      "✅ Renamed: IDRiD_03_OD.tif → IDRiD_003_OD.tif\n",
      "✅ Renamed: IDRiD_11_OD.tif → IDRiD_011_OD.tif\n",
      "✅ Renamed: IDRiD_44_OD.tif → IDRiD_044_OD.tif\n",
      "✅ Renamed: IDRiD_39_OD.tif → IDRiD_039_OD.tif\n",
      "✅ Renamed: IDRiD_27_OD.tif → IDRiD_027_OD.tif\n",
      "✅ Renamed: IDRiD_48_OD.tif → IDRiD_048_OD.tif\n",
      "✅ Renamed: IDRiD_35_OD.tif → IDRiD_035_OD.tif\n",
      "✅ Renamed: IDRiD_14_OD.tif → IDRiD_014_OD.tif\n",
      "✅ Renamed: IDRiD_06_OD.tif → IDRiD_006_OD.tif\n",
      "✅ Renamed: IDRiD_18_OD.tif → IDRiD_018_OD.tif\n",
      "✅ Renamed: IDRiD_30_OD.tif → IDRiD_030_OD.tif\n",
      "✅ Renamed: IDRiD_53_OD.tif → IDRiD_053_OD.tif\n",
      "✅ Renamed: IDRiD_22_OD.tif → IDRiD_022_OD.tif\n",
      "✅ Renamed: IDRiD_41_OD.tif → IDRiD_041_OD.tif\n",
      "✅ Renamed: IDRiD_04_OD.tif → IDRiD_004_OD.tif\n",
      "✅ Renamed: IDRiD_08_OD.tif → IDRiD_008_OD.tif\n",
      "✅ Renamed: IDRiD_16_OD.tif → IDRiD_016_OD.tif\n",
      "✅ Renamed: IDRiD_43_OD.tif → IDRiD_043_OD.tif\n",
      "✅ Renamed: IDRiD_20_OD.tif → IDRiD_020_OD.tif\n",
      "✅ Renamed: IDRiD_51_OD.tif → IDRiD_051_OD.tif\n",
      "✅ Renamed: IDRiD_32_OD.tif → IDRiD_032_OD.tif\n",
      "✅ Renamed: IDRiD_28_OD.tif → IDRiD_028_OD.tif\n",
      "✅ Renamed: IDRiD_36_OD.tif → IDRiD_036_OD.tif\n",
      "✅ Renamed: IDRiD_47_OD.tif → IDRiD_047_OD.tif\n",
      "✅ Renamed: IDRiD_24_OD.tif → IDRiD_024_OD.tif\n",
      "✅ Renamed: IDRiD_12_OD.tif → IDRiD_012_OD.tif\n",
      "✅ Renamed: IDRiD_26_OD.tif → IDRiD_026_OD.tif\n",
      "✅ Renamed: IDRiD_38_OD.tif → IDRiD_038_OD.tif\n",
      "✅ Renamed: IDRiD_45_OD.tif → IDRiD_045_OD.tif\n",
      "✅ Renamed: IDRiD_34_OD.tif → IDRiD_034_OD.tif\n",
      "✅ Renamed: IDRiD_49_OD.tif → IDRiD_049_OD.tif\n",
      "✅ Renamed: IDRiD_02_OD.tif → IDRiD_002_OD.tif\n",
      "✅ Renamed: IDRiD_10_OD.tif → IDRiD_010_OD.tif\n",
      "\n",
      "Done. Total files renamed: 54\n"
     ]
    }
   ],
   "source": [
    "import os\n",
    "import re\n",
    "\n",
    "def pad_idrid_with_suffix(name):\n",
    "    \"\"\"\n",
    "    Convert IDRiD_01_MA.tif → IDRiD_001_MA.tif\n",
    "    \"\"\"\n",
    "    base, ext = os.path.splitext(name)\n",
    "    ext = ext.lower()\n",
    "    match = re.match(r\"(IDRiD_)(\\d{1,2})(_.+)\", base)\n",
    "    if match and ext == \".tif\":\n",
    "        prefix = match.group(1)\n",
    "        number = int(match.group(2))\n",
    "        suffix = match.group(3)\n",
    "        new_name = f\"{prefix}{number:03d}{suffix}{ext}\"\n",
    "        return new_name\n",
    "    return None\n",
    "\n",
    "def rename_files_in_directory(directory):\n",
    "    renamed = 0\n",
    "    for filename in os.listdir(directory):\n",
    "        new_name = pad_idrid_with_suffix(filename)\n",
    "        if new_name and new_name != filename:\n",
    "            src = os.path.join(directory, filename)\n",
    "            dst = os.path.join(directory, new_name)\n",
    "            os.rename(src, dst)\n",
    "            print(f\"✅ Renamed: {filename} → {new_name}\")\n",
    "            renamed += 1\n",
    "    print(f\"\\nDone. Total files renamed: {renamed}\")\n",
    "\n",
    "if __name__ == \"__main__\":\n",
    "    path = \"/Users/balmukundmishra/Desktop/2025-Learning/Eye_Disease_Detection_MTL/data/idrid/Segmentation/2. All Segmentation Groundtruths/a. Training Set/5. Optic Disc\"\n",
    "    rename_files_in_directory(path)\n"
   ]
  },
  {
   "cell_type": "code",
   "execution_count": 2,
   "metadata": {},
   "outputs": [
    {
     "name": "stdout",
     "output_type": "stream",
     "text": [
      "✅ labels.json written to: /Users/balmukundmishra/Desktop/2025-Learning/Eye_Disease_Detection_MTL/Preprocessed_Data/classification/test/test_image_label_mapping.json\n"
     ]
    }
   ],
   "source": [
    "import pandas as pd\n",
    "import json\n",
    "\n",
    "def generate_labels_json(csv_path, output_path):\n",
    "    df = pd.read_csv(csv_path)\n",
    "\n",
    "    # Drop extra empty columns and whitespace from headers\n",
    "    df.columns = df.columns.str.strip()\n",
    "    df[\"Image name\"] = df[\"Image name\"].str.strip()\n",
    "    df[\"Retinopathy grade\"] = df[\"Retinopathy grade\"].astype(int)\n",
    "\n",
    "    label_dict = {}\n",
    "    for _, row in df.iterrows():\n",
    "        image_name = row[\"Image name\"].strip()\n",
    "        grade = row[\"Retinopathy grade\"]\n",
    "        label_dict[f\"{image_name}.jpg\"] = grade\n",
    "\n",
    "    # Save to JSON\n",
    "    with open(output_path, \"w\") as f:\n",
    "        json.dump(label_dict, f, indent=2)\n",
    "\n",
    "    print(f\"✅ labels.json written to: {output_path}\")\n",
    "\n",
    "# Example usage\n",
    "csv_file = \"/Users/balmukundmishra/Desktop/2025-Learning/Eye_Disease_Detection_MTL/Data/B. Disease Grading/Groundtruths/b. IDRiD_Disease Grading_Testing Labels.csv\"\n",
    "output_file = \"/Users/balmukundmishra/Desktop/2025-Learning/Eye_Disease_Detection_MTL/Preprocessed_Data/classification/test/test_image_label_mapping.json\"\n",
    "generate_labels_json(csv_file, output_file)\n"
   ]
  },
  {
   "cell_type": "code",
   "execution_count": null,
   "metadata": {},
   "outputs": [],
   "source": [
    "## lets create our json for binary classifier [dynamic decision maker that if edema present = 1 or not present = ]\n",
    "\n",
    "import pandas as pd\n",
    "import json\n",
    "\n",
    "def generate_labels_json(csv_path, output_path):\n",
    "    df = pd.read_csv(csv_path)\n",
    "\n",
    "    # Drop extra empty columns and whitespace from headers\n",
    "    df.columns = df.columns.str.strip()\n",
    "    df[\"Image name\"] = df[\"Image name\"].str.strip()\n",
    "    df[\"is_edema\"] = df[\"Retinopathy grade\"].astype(int)\n",
    "\n",
    "    label_dict = {}\n",
    "    for _, row in df.iterrows():\n",
    "        image_name = row[\"Image name\"].strip()\n",
    "        grade = row[\"Retinopathy grade\"]\n",
    "        label_dict[f\"{image_name}.jpg\"] = grade\n",
    "\n",
    "    # Save to JSON\n",
    "    with open(output_path, \"w\") as f:\n",
    "        json.dump(label_dict, f, indent=2)\n",
    "\n",
    "    print(f\"✅ labels.json written to: {output_path}\")\n",
    "\n",
    "# Example usage\n",
    "csv_file = \"/Users/balmukundmishra/Desktop/2025-Learning/Eye_Disease_Detection_MTL/Data/B. Disease Grading/Groundtruths/b. IDRiD_Disease Grading_Testing Labels.csv\"\n",
    "output_file = \"/Users/balmukundmishra/Desktop/2025-Learning/Eye_Disease_Detection_MTL/Preprocessed_Data/classification/test/binary_is_edema_mapping.json\"\n",
    "generate_labels_json(csv_file, output_file)\n"
   ]
  },
  {
   "cell_type": "code",
   "execution_count": null,
   "metadata": {},
   "outputs": [],
   "source": []
  },
  {
   "cell_type": "code",
   "execution_count": null,
   "metadata": {},
   "outputs": [],
   "source": []
  },
  {
   "cell_type": "code",
   "execution_count": null,
   "metadata": {},
   "outputs": [],
   "source": []
  },
  {
   "cell_type": "code",
   "execution_count": null,
   "metadata": {},
   "outputs": [],
   "source": [
    "Missing mask: /Users/balmukundmishra/Desktop/2025-Learning/Eye_Disease_Detection_MTL/data/idrid/Segmentation/2. All Segmentation Groundtruths/a. Training Set/4. Soft Exudates/IDRiD_053_ES.tif"
   ]
  }
 ],
 "metadata": {
  "kernelspec": {
   "display_name": "Python 3",
   "language": "python",
   "name": "python3"
  },
  "language_info": {
   "codemirror_mode": {
    "name": "ipython",
    "version": 3
   },
   "file_extension": ".py",
   "mimetype": "text/x-python",
   "name": "python",
   "nbconvert_exporter": "python",
   "pygments_lexer": "ipython3",
   "version": "3.10.9"
  }
 },
 "nbformat": 4,
 "nbformat_minor": 2
}
