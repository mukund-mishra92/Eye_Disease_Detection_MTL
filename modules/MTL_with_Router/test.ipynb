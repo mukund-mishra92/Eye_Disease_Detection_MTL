{
 "cells": [
  {
   "cell_type": "code",
   "execution_count": 2,
   "metadata": {},
   "outputs": [
    {
     "ename": "FileNotFoundError",
     "evalue": "[Errno 2] No such file or directory: '/Users/balmukundmishra/Desktop/2025-Learning/Eye_Disease_Detection_MTL/Preprocessed_Data/segmentation/train/groundtruth/4. Hard Exudates'",
     "output_type": "error",
     "traceback": [
      "\u001b[0;31m---------------------------------------------------------------------------\u001b[0m",
      "\u001b[0;31mFileNotFoundError\u001b[0m                         Traceback (most recent call last)",
      "Cell \u001b[0;32mIn[2], line 12\u001b[0m\n\u001b[1;32m     10\u001b[0m     \u001b[38;5;28;01mreturn\u001b[39;00m count\n\u001b[1;32m     11\u001b[0m \u001b[38;5;28;01mif\u001b[39;00m \u001b[38;5;18m__name__\u001b[39m \u001b[38;5;241m==\u001b[39m \u001b[38;5;124m\"\u001b[39m\u001b[38;5;124m__main__\u001b[39m\u001b[38;5;124m\"\u001b[39m:\n\u001b[0;32m---> 12\u001b[0m     tif_count \u001b[38;5;241m=\u001b[39m \u001b[43mcount_tif_files\u001b[49m\u001b[43m(\u001b[49m\u001b[43mpath\u001b[49m\u001b[43m)\u001b[49m\n\u001b[1;32m     13\u001b[0m     \u001b[38;5;28mprint\u001b[39m(\u001b[38;5;124mf\u001b[39m\u001b[38;5;124m\"\u001b[39m\u001b[38;5;124mNumber of .tif files in \u001b[39m\u001b[38;5;124m'\u001b[39m\u001b[38;5;132;01m{\u001b[39;00mpath\u001b[38;5;132;01m}\u001b[39;00m\u001b[38;5;124m'\u001b[39m\u001b[38;5;124m: \u001b[39m\u001b[38;5;132;01m{\u001b[39;00mtif_count\u001b[38;5;132;01m}\u001b[39;00m\u001b[38;5;124m\"\u001b[39m)\n\u001b[1;32m     14\u001b[0m     \u001b[38;5;28;01mif\u001b[39;00m tif_count \u001b[38;5;241m==\u001b[39m \u001b[38;5;241m0\u001b[39m:\n",
      "Cell \u001b[0;32mIn[2], line 7\u001b[0m, in \u001b[0;36mcount_tif_files\u001b[0;34m(directory)\u001b[0m\n\u001b[1;32m      5\u001b[0m \u001b[38;5;28;01mdef\u001b[39;00m \u001b[38;5;21mcount_tif_files\u001b[39m(directory):\n\u001b[1;32m      6\u001b[0m     count \u001b[38;5;241m=\u001b[39m \u001b[38;5;241m0\u001b[39m\n\u001b[0;32m----> 7\u001b[0m     \u001b[38;5;28;01mfor\u001b[39;00m filename \u001b[38;5;129;01min\u001b[39;00m \u001b[43mos\u001b[49m\u001b[38;5;241;43m.\u001b[39;49m\u001b[43mlistdir\u001b[49m\u001b[43m(\u001b[49m\u001b[43mdirectory\u001b[49m\u001b[43m)\u001b[49m:\n\u001b[1;32m      8\u001b[0m         \u001b[38;5;28;01mif\u001b[39;00m filename\u001b[38;5;241m.\u001b[39mendswith(\u001b[38;5;124m'\u001b[39m\u001b[38;5;124m.tif\u001b[39m\u001b[38;5;124m'\u001b[39m):\n\u001b[1;32m      9\u001b[0m             count \u001b[38;5;241m+\u001b[39m\u001b[38;5;241m=\u001b[39m \u001b[38;5;241m1\u001b[39m\n",
      "\u001b[0;31mFileNotFoundError\u001b[0m: [Errno 2] No such file or directory: '/Users/balmukundmishra/Desktop/2025-Learning/Eye_Disease_Detection_MTL/Preprocessed_Data/segmentation/train/groundtruth/4. Hard Exudates'"
     ]
    }
   ],
   "source": []
  },
  {
   "cell_type": "code",
   "execution_count": 2,
   "metadata": {},
   "outputs": [
    {
     "name": "stdout",
     "output_type": "stream",
     "text": [
      "🔍 Scanning root mask directory: /Users/balmukundmishra/Desktop/2025-Learning/Eye_Disease_Detection_MTL/Preprocessed_Data/segmentation/train/groundtruth\n",
      "\n",
      "📁 Folder: 1. Microaneurysms | 🧾 TIF Files: 54\n",
      "   └── IDRiD_10_MA.tif\n",
      "   └── IDRiD_02_MA.tif\n",
      "   └── IDRiD_49_MA.tif\n",
      "📁 Folder: 2. Haemorrhages | 🧾 TIF Files: 53\n",
      "   └── IDRiD_03_HE.tif\n",
      "   └── IDRiD_11_HE.tif\n",
      "   └── IDRiD_44_HE.tif\n",
      "📁 Folder: 3. Hard Exudates | 🧾 TIF Files: 54\n",
      "   └── IDRiD_41_EX.tif\n",
      "   └── IDRiD_22_EX.tif\n",
      "   └── IDRiD_53_EX.tif\n",
      "📁 Folder: 4. Soft Exudates | 🧾 TIF Files: 26\n",
      "   └── IDRiD_08_SE.tif\n",
      "   └── IDRiD_32_SE.tif\n",
      "   └── IDRiD_51_SE.tif\n",
      "📁 Folder: 5. Optic Disc | 🧾 TIF Files: 54\n",
      "   └── IDRiD_52_OD.tif\n",
      "   └── IDRiD_31_OD.tif\n",
      "   └── IDRiD_40_OD.tif\n",
      "\n",
      "📦 Total mask files found: 241\n",
      "🧠 Unique image IDs found: ['01', '02', '03', '04', '05', '06', '07', '08', '09', '10', '11', '12', '13', '14', '15', '16', '17', '18', '19', '20', '21', '22', '23', '24', '25', '26', '27', '28', '29', '30', '31', '32', '33', '34', '35', '36', '37', '38', '39', '40', '41', '42', '43', '44', '45', '46', '47', '48', '49', '50', '51', '52', '53', '54']\n"
     ]
    }
   ],
   "source": [
    "path = r\"/Users/balmukundmishra/Desktop/2025-Learning/Eye_Disease_Detection_MTL/Preprocessed_Data/segmentation/train/groundtruth\"\n",
    "\n",
    "import os\n",
    "\n",
    "def inspect_groundtruth_structure(root_dir):\n",
    "    print(f\"🔍 Scanning root mask directory: {root_dir}\\n\")\n",
    "\n",
    "    if not os.path.exists(root_dir):\n",
    "        print(\"❌ Path does not exist.\")\n",
    "        return\n",
    "\n",
    "    lesion_folders = sorted(os.listdir(root_dir))\n",
    "    all_files_summary = []\n",
    "\n",
    "    for folder in lesion_folders:\n",
    "        folder_path = os.path.join(root_dir, folder)\n",
    "        if not os.path.isdir(folder_path):\n",
    "            print(f\"⚠️ Skipping non-folder item: {folder_path}\")\n",
    "            continue\n",
    "\n",
    "        tif_files = [f for f in os.listdir(folder_path) if f.lower().endswith(\".tif\")]\n",
    "        print(f\"📁 Folder: {folder} | 🧾 TIF Files: {len(tif_files)}\")\n",
    "\n",
    "        # Show a few example files\n",
    "        sample = tif_files[:3]\n",
    "        for s in sample:\n",
    "            print(f\"   └── {s}\")\n",
    "        \n",
    "        all_files_summary.extend([(folder, f) for f in tif_files])\n",
    "\n",
    "    print(f\"\\n📦 Total mask files found: {len(all_files_summary)}\")\n",
    "    unique_ids = set(fname.split('_')[1] for _, fname in all_files_summary if \"IDRiD\" in fname)\n",
    "    print(f\"🧠 Unique image IDs found: {sorted(unique_ids)}\")\n",
    "\n",
    "# Call with your root directory\n",
    "inspect_groundtruth_structure(path)\n",
    "\n",
    "\n",
    "\n",
    "            "
   ]
  },
  {
   "cell_type": "code",
   "execution_count": 3,
   "metadata": {},
   "outputs": [
    {
     "name": "stdout",
     "output_type": "stream",
     "text": [
      "Raw mask pixel range: 0.0 → 0.2980392277240753\n",
      "Non-zero after binarization: 0.0\n"
     ]
    }
   ],
   "source": [
    "from PIL import Image\n",
    "import torch\n",
    "import torchvision.transforms as transforms\n",
    "import os\n",
    "\n",
    "# Use your path\n",
    "mask_path = \"/Users/balmukundmishra/Desktop/2025-Learning/Eye_Disease_Detection_MTL/Preprocessed_Data/segmentation/test/groundtruth/4. Soft Exudates/IDRiD_55_SE.tif\"\n",
    "\n",
    "transform = transforms.Compose([\n",
    "    transforms.Resize((256, 256), interpolation=transforms.InterpolationMode.NEAREST),\n",
    "    transforms.ToTensor()\n",
    "])\n",
    "\n",
    "mask = Image.open(mask_path).convert(\"L\")\n",
    "resized = transform(mask)[0]  # shape: [H, W]\n",
    "binarized = (resized > 0.5).float()\n",
    "\n",
    "print(\"Raw mask pixel range:\", resized.min().item(), \"→\", resized.max().item())\n",
    "print(\"Non-zero after binarization:\", binarized.sum().item())\n"
   ]
  },
  {
   "cell_type": "code",
   "execution_count": null,
   "metadata": {},
   "outputs": [],
   "source": []
  }
 ],
 "metadata": {
  "kernelspec": {
   "display_name": "base",
   "language": "python",
   "name": "python3"
  },
  "language_info": {
   "codemirror_mode": {
    "name": "ipython",
    "version": 3
   },
   "file_extension": ".py",
   "mimetype": "text/x-python",
   "name": "python",
   "nbconvert_exporter": "python",
   "pygments_lexer": "ipython3",
   "version": "3.10.9"
  }
 },
 "nbformat": 4,
 "nbformat_minor": 2
}
